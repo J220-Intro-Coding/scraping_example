{
 "cells": [
  {
   "cell_type": "code",
   "execution_count": null,
   "metadata": {},
   "outputs": [],
   "source": [
    "import requests\n",
    "import csv\n",
    "import json\n",
    "import pandas as pd\n",
    "import re\n",
    "from bs4 import BeautifulSoup\n",
    "from time import sleep\n",
    "from datetime import date\n",
    "from datetime import datetime"
   ]
  },
  {
   "cell_type": "code",
   "execution_count": null,
   "metadata": {},
   "outputs": [],
   "source": [
    "#get current time for when we ran this scraper\n",
    "#Example: 04/13/2020 23:26:58\n",
    "now = datetime.now()\n",
    "t = now.strftime(\"%m/%d/%Y %H:%M:%S\")"
   ]
  },
  {
   "cell_type": "code",
   "execution_count": null,
   "metadata": {},
   "outputs": [],
   "source": [
    "# Read CSV file\n",
    "mycsv = pd.read_csv(\"https://raw.githubusercontent.com/J220-Intro-Coding/scraping_example/master/latest-data.csv\", keep_default_na=False)\n",
    "mycsv.head(30)"
   ]
  },
  {
   "cell_type": "code",
   "execution_count": null,
   "metadata": {},
   "outputs": [],
   "source": [
    "headers = {\n",
    "    'referer': 'https://journalism.berkeley.edu/',\n",
    "    'user-agent': 'Mozilla/5.0 (Macintosh; Intel Mac OS X 10_15_0) AppleWebKit/537.36 (KHTML, like Gecko) Chrome/75.0.3770.142 Safari/537.36'\n",
    "}"
   ]
  },
  {
   "cell_type": "code",
   "execution_count": null,
   "metadata": {},
   "outputs": [],
   "source": [
    "#Alameda\n",
    "def alameda_scraper():\n",
    "    try:\n",
    "        webpage = requests.get(mycsv[mycsv.county == 'Alameda']['url'][0], headers=headers, timeout=4)\n",
    "        webpage.encoding = 'utf-8'\n",
    "        alameda = json.loads(webpage.text)\n",
    "        cases   = alameda['features'][0]['attributes']['cases']\n",
    "        deaths  = alameda['features'][0]['attributes']['deaths']\n",
    "        mycsv.at[mycsv.index[mycsv['county'] == 'Alameda'].tolist()[0], 'cases'] = cases\n",
    "        mycsv.at[mycsv.index[mycsv['county'] == 'Alameda'].tolist()[0], 'deaths'] = deaths\n",
    "        mycsv.at[mycsv.index[mycsv['county'] == 'Alameda'].tolist()[0], 'as of'] = t\n",
    "        return {'cases':cases,'deaths':deaths}\n",
    "    except requests.exceptions.Timeout:\n",
    "        print(\"timeout occured with Alameda\")\n",
    "alameda_scraper()\n",
    "mycsv.head(10)"
   ]
  },
  {
   "cell_type": "code",
   "execution_count": null,
   "metadata": {},
   "outputs": [],
   "source": [
    "#Alpine\n",
    "def alpine_scraper():\n",
    "    try:\n",
    "        webpage = requests.get(mycsv.at[mycsv.index[mycsv['county'] == 'Alpine'].tolist()[0], 'url'], headers=headers, timeout=4)\n",
    "        webpage.encoding = 'utf-8'\n",
    "        soup   = BeautifulSoup(webpage.text, 'html.parser')\n",
    "        text   = soup.findAll('div', {'class':'update latest'})[0].p.contents[1]\n",
    "        cases  = re.compile('.*positive\\s-\\s(\\d+).*').findall(text.text)[0]\n",
    "        deaths = re.compile('.*deaths\\s-\\s(\\d+).*').findall(text.text)[0]\n",
    "        mycsv.at[mycsv.index[mycsv['county'] == 'Alpine'].tolist()[0], 'cases'] = cases\n",
    "        mycsv.at[mycsv.index[mycsv['county'] == 'Alpine'].tolist()[0], 'deaths'] = deaths\n",
    "        mycsv.at[mycsv.index[mycsv['county'] == 'Alpine'].tolist()[0], 'as of'] = t\n",
    "        return {'cases':cases,'deaths':deaths}\n",
    "    except requests.exceptions.Timeout:\n",
    "        print(\"timeout occured with Alpine\")\n",
    "alpine_scraper()\n",
    "mycsv.head(10)"
   ]
  },
  {
   "cell_type": "code",
   "execution_count": null,
   "metadata": {},
   "outputs": [],
   "source": [
    "#Amador\n",
    "def amador_scraper():\n",
    "    try:\n",
    "        webpage = requests.get(mycsv.at[mycsv.index[mycsv['county'] == 'Amador'].tolist()[0], 'url'], headers=headers, timeout=4)\n",
    "        webpage.encoding = 'utf-8'\n",
    "        soup = BeautifulSoup(webpage.text, 'html.parser')\n",
    "        find_cases = [li for li in soup.table.find_all(\"td\") if re.compile(\".*Laboratory Confirmed Cases:.*\").match(li.text)]\n",
    "        cases = re.compile('Laboratory Confirmed Cases:\\s(\\d+)').findall(str(find_cases[0].contents[1].string).strip())[0]\n",
    "        find_deaths = [li for li in soup.table.find_all(\"td\") if re.compile(\".*Deaths:.*\").match(li.text)]\n",
    "        deaths = re.compile('.*?Deaths:\\s(\\d+)').findall(str(find_deaths[0].contents[0].string).strip())[0]\n",
    "        mycsv.at[mycsv.index[mycsv['county'] == 'Amador'].tolist()[0], 'cases'] = cases\n",
    "        mycsv.at[mycsv.index[mycsv['county'] == 'Amador'].tolist()[0], 'deaths'] = deaths\n",
    "        mycsv.at[mycsv.index[mycsv['county'] == 'Amador'].tolist()[0], 'as of'] = t\n",
    "        return {'cases':cases,'deaths':deaths}\n",
    "    except requests.exceptions.Timeout:\n",
    "        print(\"timeout occured with Amador\")\n",
    "amador_scraper()\n",
    "mycsv.head(10)"
   ]
  },
  {
   "cell_type": "code",
   "execution_count": null,
   "metadata": {},
   "outputs": [],
   "source": [
    "#Butte County\n",
    "# http://www.buttecounty.net/publichealth/Home/fbclid/IwAR3fSGcPIbTuP9oMALIinPe68ft2E_vscQm2hDlGwwyilvdXog7KZwY9vTw\n",
    "def butte_scraper():\n",
    "    try:\n",
    "        webpage = requests.get(mycsv.at[mycsv.index[mycsv['county'] == 'Butte'].tolist()[0], 'url'], headers=headers, timeout=4)\n",
    "        webpage.encoding = 'utf-8'\n",
    "        soup = BeautifulSoup(webpage.text, 'html.parser')\n",
    "        \n",
    "#         cases = \n",
    "#         deaths = \n",
    "        \n",
    "#         mycsv.at[mycsv.index[mycsv['county'] == 'Butte'].tolist()[0], 'cases'] = cases\n",
    "#         mycsv.at[mycsv.index[mycsv['county'] == 'Butte'].tolist()[0], 'deaths'] = deaths\n",
    "#         mycsv.at[mycsv.index[mycsv['county'] == 'Butte'].tolist()[0], 'as of'] = t\n",
    "        return soup\n",
    "    except requests.exceptions.Timeout:\n",
    "        print(\"timeout occured with Butte\")\n",
    "        \n",
    "soup = butte_scraper()"
   ]
  },
  {
   "cell_type": "code",
   "execution_count": null,
   "metadata": {},
   "outputs": [],
   "source": []
  }
 ],
 "metadata": {
  "kernelspec": {
   "display_name": "Python 3",
   "language": "python",
   "name": "python3"
  },
  "language_info": {
   "codemirror_mode": {
    "name": "ipython",
    "version": 3
   },
   "file_extension": ".py",
   "mimetype": "text/x-python",
   "name": "python",
   "nbconvert_exporter": "python",
   "pygments_lexer": "ipython3",
   "version": "3.7.5"
  }
 },
 "nbformat": 4,
 "nbformat_minor": 4
}
